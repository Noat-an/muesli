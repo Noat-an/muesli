{
 "cells": [
  {
   "cell_type": "code",
   "execution_count": 2,
   "metadata": {},
   "outputs": [],
   "source": [
    "import time\n",
    "from timer import Timer"
   ]
  },
  {
   "cell_type": "code",
   "execution_count": 3,
   "metadata": {},
   "outputs": [
    {
     "name": "stdout",
     "output_type": "stream",
     "text": [
      "DDDD\n",
      "Downloaded the tutorial in 1.00 seconds\n"
     ]
    }
   ],
   "source": [
    "@Timer(text=\"Downloaded the tutorial in {:.2f} seconds\")\n",
    "def latest_tutorial():\n",
    "    tutorial = 'DDDD'\n",
    "    time.sleep(1)\n",
    "    print(tutorial)\n",
    "\n",
    "latest_tutorial()"
   ]
  },
  {
   "cell_type": "code",
   "execution_count": 4,
   "metadata": {},
   "outputs": [
    {
     "name": "stdout",
     "output_type": "stream",
     "text": [
      "DDDD\n",
      "Elapsed time: 1.0013 seconds\n"
     ]
    }
   ],
   "source": [
    "with Timer():\n",
    "    tutorial = 'DDDD'\n",
    "    time.sleep(1)\n",
    "    print(tutorial)"
   ]
  },
  {
   "cell_type": "code",
   "execution_count": 5,
   "metadata": {},
   "outputs": [
    {
     "name": "stdout",
     "output_type": "stream",
     "text": [
      "0.00000679\n"
     ]
    }
   ],
   "source": [
    "numbers = [7, 6, 1, 4, 1, 8, 0, 6]\n",
    "with Timer(text=\"{:.8f}\"):\n",
    "    set(numbers)"
   ]
  },
  {
   "cell_type": "code",
   "execution_count": 6,
   "metadata": {},
   "outputs": [
    {
     "name": "stdout",
     "output_type": "stream",
     "text": [
      "0.00000245\n"
     ]
    }
   ],
   "source": [
    "with Timer(text=\"{:.8f}\"):\n",
    "    {*numbers}"
   ]
  }
 ],
 "metadata": {
  "kernelspec": {
   "display_name": "muesli-HX3lWEx7-py3.10",
   "language": "python",
   "name": "python3"
  },
  "language_info": {
   "codemirror_mode": {
    "name": "ipython",
    "version": 3
   },
   "file_extension": ".py",
   "mimetype": "text/x-python",
   "name": "python",
   "nbconvert_exporter": "python",
   "pygments_lexer": "ipython3",
   "version": "3.10.12"
  }
 },
 "nbformat": 4,
 "nbformat_minor": 2
}
